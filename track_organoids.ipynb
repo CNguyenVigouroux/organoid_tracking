{
 "cells": [
  {
   "cell_type": "code",
   "execution_count": 1,
   "metadata": {},
   "outputs": [],
   "source": [
    "import numpy as np\n",
    "import trackpy as tp\n",
    "import random\n",
    "import pandas as pd\n",
    "import skimage.measure\n",
    "import matplotlib.pyplot as plt\n",
    "import glob\n",
    "import tifffile\n",
    "from organoid_tracking import organoid_tracking"
   ]
  },
  {
   "cell_type": "code",
   "execution_count": 2,
   "metadata": {},
   "outputs": [],
   "source": [
    "def test_make_organoid_masks(x,y,r,L):\n",
    "\n",
    "    X,Y = np.ogrid[:L, :L]\n",
    "\n",
    "    assert isinstance(x, list)\n",
    "    assert isinstance(y, list)\n",
    "    assert len(x) == len(y)\n",
    "\n",
    "    test_image = np.zeros((L, L))\n",
    "\n",
    "    for xn, yn, n in zip(x,y,range(len(x))):\n",
    "\n",
    "        distance = np.sqrt((X-xn)**2 + (Y-yn)**2)\n",
    "        test_image[distance<r] = n\n",
    "\n",
    "    return test_image.astype(int)\n",
    "\n",
    "def test_image():\n",
    "\n",
    "    # number of organoids\n",
    "    n = random.sample([1,2,3,4], 1)[0]\n",
    "    L = 30\n",
    "\n",
    "    # organoid positions\n",
    "    r = 5\n",
    "    x = random.sample(range(0, L), n)\n",
    "    y = random.sample(range(0, L), n)\n",
    "    \n",
    "    test_image = test_make_organoid_masks(x,y,r,L)\n",
    "\n",
    "    return test_image.astype(int)\n",
    "\n",
    "def test_image_sequence():\n",
    "    \n",
    "    n = random.sample([10,11,12,13], 1)[0]\n",
    "    \n",
    "    return np.array([test_image() for  i in range(n)])"
   ]
  },
  {
   "cell_type": "code",
   "execution_count": 3,
   "metadata": {},
   "outputs": [],
   "source": [
    "image = test_image()"
   ]
  },
  {
   "cell_type": "markdown",
   "metadata": {},
   "source": [
    "check that the test images are correct:"
   ]
  },
  {
   "cell_type": "code",
   "execution_count": 4,
   "metadata": {},
   "outputs": [
    {
     "data": {
      "text/plain": [
       "<matplotlib.image.AxesImage at 0x29bee4f10>"
      ]
     },
     "execution_count": 4,
     "metadata": {},
     "output_type": "execute_result"
    },
    {
     "data": {
      "image/png": "[encoded data removed]",
      "text/plain": [
       "<Figure size 640x480 with 1 Axes>"
      ]
     },
     "metadata": {},
     "output_type": "display_data"
    }
   ],
   "source": [
    "plt.imshow(image)"
   ]
  },
  {
   "cell_type": "markdown",
   "metadata": {},
   "source": [
    "we verify that the information we get is relevant:"
   ]
  },
  {
   "cell_type": "code",
   "execution_count": 5,
   "metadata": {},
   "outputs": [
    {
     "data": {
      "text/html": [
       "<div>\n",
       "<style scoped>\n",
       "    .dataframe tbody tr th:only-of-type {\n",
       "        vertical-align: middle;\n",
       "    }\n",
       "\n",
       "    .dataframe tbody tr th {\n",
       "        vertical-align: top;\n",
       "    }\n",
       "\n",
       "    .dataframe thead th {\n",
       "        text-align: right;\n",
       "    }\n",
       "</style>\n",
       "<table border=\"1\" class=\"dataframe\">\n",
       "  <thead>\n",
       "    <tr style=\"text-align: right;\">\n",
       "      <th></th>\n",
       "      <th>y</th>\n",
       "      <th>x</th>\n",
       "      <th>perimeter</th>\n",
       "      <th>area</th>\n",
       "    </tr>\n",
       "  </thead>\n",
       "  <tbody>\n",
       "    <tr>\n",
       "      <th>0</th>\n",
       "      <td>5.0</td>\n",
       "      <td>23.0</td>\n",
       "      <td>27.313708</td>\n",
       "      <td>69</td>\n",
       "    </tr>\n",
       "    <tr>\n",
       "      <th>1</th>\n",
       "      <td>17.0</td>\n",
       "      <td>17.0</td>\n",
       "      <td>27.313708</td>\n",
       "      <td>69</td>\n",
       "    </tr>\n",
       "  </tbody>\n",
       "</table>\n",
       "</div>"
      ],
      "text/plain": [
       "      y     x  perimeter  area\n",
       "0   5.0  23.0  27.313708    69\n",
       "1  17.0  17.0  27.313708    69"
      ]
     },
     "execution_count": 5,
     "metadata": {},
     "output_type": "execute_result"
    }
   ],
   "source": [
    "organoid_tracking.get_mask_properties(image)"
   ]
  },
  {
   "cell_type": "markdown",
   "metadata": {},
   "source": [
    "## analyzing an image sequence\n",
    "\n",
    "we get the organoid properties sequentially and then link the individual organoids together using trackpy."
   ]
  },
  {
   "cell_type": "code",
   "execution_count": 6,
   "metadata": {},
   "outputs": [],
   "source": [
    "def single_movie_trajs(image_sequence,\n",
    "                       max_step = 50):\n",
    "\n",
    "    \"\"\" From images sequences to trajectories \"\"\"\n",
    "\n",
    "    organoid_data = pd.DataFrame()\n",
    "\n",
    "    for image, frame in zip(image_sequence, range(len(image_sequence))):\n",
    "        \n",
    "        properties = organoid_tracking.get_mask_properties(image)\n",
    "        properties['frame'] = frame\n",
    "        \n",
    "        organoid_data = pd.concat([organoid_data, properties], \n",
    "                                ignore_index=True)\n",
    "\n",
    "    organoid_data = tp.link(organoid_data, max_step, memory=3)\n",
    "\n",
    "    return organoid_data"
   ]
  },
  {
   "cell_type": "code",
   "execution_count": 7,
   "metadata": {},
   "outputs": [],
   "source": [
    "test_image_sequence = test_image_sequence()"
   ]
  },
  {
   "cell_type": "code",
   "execution_count": 8,
   "metadata": {},
   "outputs": [],
   "source": [
    "path_to_imgs = '/Users/gustaveronteix/Documents/Code/Orakl/collective_ameobide/CNV029-Masks&DIC/Coll_CT-Stacks-masks'\n",
    "fnames = glob.glob(os.path.join(path_to_imgs, '*.tiff'))"
   ]
  },
  {
   "cell_type": "code",
   "execution_count": 78,
   "metadata": {},
   "outputs": [
    {
     "name": "stdout",
     "output_type": "stream",
     "text": [
      "Frame 41: 3 trajectories present.\n"
     ]
    },
    {
     "data": {
      "image/png": "[encoded data removed]",
      "text/plain": [
       "<Figure size 400x200 with 1 Axes>"
      ]
     },
     "metadata": {},
     "output_type": "display_data"
    }
   ],
   "source": [
    "def get_particle_props(dataframe):\n",
    "\n",
    "    for particle in dataframe.particle.unique():\n",
    "\n",
    "        particleframe = dataframe[dataframe.particle == particle].copy()\n",
    "        dataframe = dataframe.drop(dataframe[dataframe.particle == particle].index)\n",
    "\n",
    "        particleframe['dx'] = particleframe.x - particleframe.x.shift()\n",
    "        particleframe['dy'] = particleframe.y - particleframe.y.shift()\n",
    "        particleframe['velocity'] = np.sqrt(particleframe.dx**2 + particleframe.dy**2)\n",
    "        particleframe['cumulative_displacement'] = particleframe['velocity'].cumsum()\n",
    "\n",
    "        xstart= particleframe.loc[particleframe.frame.idxmin(), 'x']\n",
    "        ystart= particleframe.loc[particleframe.frame.idxmin(), 'y']\n",
    "\n",
    "        particleframe['absolute_displacement'] = np.sqrt((particleframe.x - xstart)**2 + (particleframe.y - ystart)**2)\n",
    "\n",
    "        dataframe = pd.concat([dataframe, particleframe])\n",
    "\n",
    "    return dataframe\n",
    "\n",
    "def movie_analysis(filename):\n",
    "\n",
    "    movie_name, _ = filename.split('.')\n",
    "    image_sequence = tifffile.imread(filename)\n",
    "\n",
    "    # if spurious channels remove extra RGB one\n",
    "    if image_sequence.ndim == 4:\n",
    "        single_channel_image_sequence = image_sequence[..., 0]\n",
    "        image_sequence = single_channel_image_sequence\n",
    "        del(single_channel_image_sequence)\n",
    "\n",
    "    # check that dimensions are OK\n",
    "    assert image_sequence.ndim == 3\n",
    "\n",
    "    movie_frame = single_movie_trajs(image_sequence,\n",
    "                       max_step = 100)\n",
    "    movie_frame = get_particle_props(movie_frame)\n",
    "    movie_frame['movie_name'] = movie_name\n",
    "    movie_frame['filename'] = filename\n",
    "\n",
    "    plot_verification_image(movie_frame)\n",
    "\n",
    "    return movie_frame\n",
    "\n",
    "def plot_verification_image(movie_frame):\n",
    "\n",
    "    directory = os.path.dirname(movie_frame.filename.unique()[0])\n",
    "    mvname = os.path.basename(movie_frame.filename.unique()[0])\n",
    "    mvname, _ = mvname.split('.')\n",
    "    mvname += '.pdf'\n",
    "    directory = os.path.join(directory, 'verification')\n",
    "\n",
    "    if not os.path.exists(directory):\n",
    "        os.makedirs(directory)\n",
    "\n",
    "    image = tifffile.imread(movie_frame.filename.unique()[0])[0]\n",
    "\n",
    "    fig, ax = plt.subplots(figsize=(4,2))\n",
    "    plt.imshow(image)\n",
    "    ax = tp.plot_traj(movie_frame)\n",
    "\n",
    "    for particle in movie_frame.particle.unique():\n",
    "        xtext = int(movie_frame.loc[(movie_frame.particle == particle), 'x'].mean())\n",
    "        ytext = int(movie_frame.loc[(movie_frame.particle == particle), 'y'].mean())\n",
    "\n",
    "        ax.text(x = xtext, y = ytext, s = str(particle), c = 'w', fontsize = 12)\n",
    "\n",
    "    fig.savefig(os.path.join(directory, mvname))\n",
    "    plt.close()\n",
    "    \n",
    "    return\n",
    "\n",
    "movie_frames = map(movie_analysis, fnames)\n",
    "\n",
    "file_data = pd.DataFrame()\n",
    "file_data = pd.concat(list(movie_frames), \n",
    "                      ignore_index=True)\n",
    "file_data['unique_organoid'] = file_data['particle'].astype(str) + ':' + file_data['movie_name']"
   ]
  },
  {
   "cell_type": "code",
   "execution_count": null,
   "metadata": {},
   "outputs": [],
   "source": [
    "file_data.filename.unique()"
   ]
  },
  {
   "cell_type": "code",
   "execution_count": 54,
   "metadata": {},
   "outputs": [],
   "source": [
    "organoid_statistics = pd.DataFrame(columns = ['movie_name', 'particle'])\n",
    "\n",
    "for single_particle in file_data.unique_organoid.unique():\n",
    "\n",
    "    unique_organoid_frame = file_data[file_data.unique_organoid == single_particle].sort_values('frame')\n",
    "    \n",
    "    assert len(unique_organoid_frame.movie_name.unique()) == 1\n",
    "    assert len(unique_organoid_frame.particle.unique()) == 1\n",
    "\n",
    "    single_organoid_statistics = pd.DataFrame(columns = ['movie_name',\n",
    "                                                         'particle',\n",
    "                                                         'unique_organoid',\n",
    "                                                         'velocity_std',\n",
    "                                                         'velocity_mean',\n",
    "                                                         'perimeter',\n",
    "                                                         'area',\n",
    "                                                         'circularity'])\n",
    "\n",
    "    single_organoid_statistics.loc[0, 'movie_name'] = unique_organoid_frame.movie_name.unique()[0]\n",
    "    single_organoid_statistics.loc[0, 'particle'] = unique_organoid_frame.particle.unique()[0]\n",
    "    single_organoid_statistics.loc[0, 'unique_organoid'] = single_particle\n",
    "\n",
    "    single_organoid_statistics.loc[0, 'cumulative_displacement'] = unique_organoid_frame['cumulative_displacement'].max()\n",
    "    single_organoid_statistics.loc[0, 'absolute_displacement'] = unique_organoid_frame.loc[unique_organoid_frame.index.max(), 'absolute_displacement']\n",
    "    single_organoid_statistics.loc[0, 'velocity_std'] = unique_organoid_frame['velocity'].std()\n",
    "    single_organoid_statistics.loc[0, 'velocity_mean'] = unique_organoid_frame['velocity'].mean()\n",
    "    single_organoid_statistics.loc[0, 'perimeter'] = unique_organoid_frame['perimeter'].mean()\n",
    "    single_organoid_statistics.loc[0, 'area'] = unique_organoid_frame['area'].mean()\n",
    "    single_organoid_statistics.loc[0, 'circularity'] = 4*np.pi*(unique_organoid_frame['area']/unique_organoid_frame['perimeter']**2).mean()\n",
    "\n",
    "    organoid_statistics = pd.concat([organoid_statistics, single_organoid_statistics])\n",
    "\n"
   ]
  },
  {
   "cell_type": "code",
   "execution_count": null,
   "metadata": {},
   "outputs": [],
   "source": [
    "organoid_statistics.to_csv()"
   ]
  }
 ],
 "metadata": {
  "kernelspec": {
   "display_name": "Python 3.8.9 64-bit",
   "language": "python",
   "name": "python3"
  },
  "language_info": {
   "codemirror_mode": {
    "name": "ipython",
    "version": 3
   },
   "file_extension": ".py",
   "mimetype": "text/x-python",
   "name": "python",
   "nbconvert_exporter": "python",
   "pygments_lexer": "ipython3",
   "version": "3.8.9"
  },
  "vscode": {
   "interpreter": {
    "hash": "31f2aee4e71d21fbe5cf8b01ff0e069b9275f58929596ceb00d14d90e3e16cd6"
   }
  }
 },
 "nbformat": 4,
 "nbformat_minor": 4
}
