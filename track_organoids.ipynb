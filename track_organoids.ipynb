{
 "cells": [
  {
   "cell_type": "code",
   "execution_count": 74,
   "metadata": {},
   "outputs": [],
   "source": [
    "import pytest\n",
    "import numpy as np\n",
    "import trackpy as tp\n",
    "import random\n",
    "import pandas as pd\n",
    "import skimage.measure\n",
    "import matplotlib.pyplot as plt"
   ]
  },
  {
   "cell_type": "code",
   "execution_count": 105,
   "metadata": {},
   "outputs": [],
   "source": [
    "def test_make_organoid_masks(x,y,r,L):\n",
    "\n",
    "    X,Y = np.ogrid[:L, :L]\n",
    "\n",
    "    assert isinstance(x, list)\n",
    "    assert isinstance(y, list)\n",
    "    assert len(x) == len(y)\n",
    "\n",
    "    test_image = np.zeros((L, L))\n",
    "\n",
    "    for xn, yn, n in zip(x,y,range(len(x))):\n",
    "\n",
    "        distance = np.sqrt((X-xn)**2 + (Y-yn)**2)\n",
    "        test_image[distance<r] = n\n",
    "\n",
    "    return test_image.astype(int)\n",
    "\n",
    "def test_image():\n",
    "\n",
    "    # number of organoids\n",
    "    n = random.sample([1,2,3,4], 1)[0]\n",
    "    L = 30\n",
    "\n",
    "    # organoid positions\n",
    "    r = 5\n",
    "    x = random.sample(range(0, L), n)\n",
    "    y = random.sample(range(0, L), n)\n",
    "    \n",
    "    test_image = test_make_organoid_masks(x,y,r,L)\n",
    "\n",
    "    return test_image.astype(int)\n",
    "\n",
    "def test_image_sequence():\n",
    "    \n",
    "    n = random.sample([10,11,12,13], 1)[0]\n",
    "    \n",
    "    return [test_image() for  i in range(n)]"
   ]
  },
  {
   "cell_type": "code",
   "execution_count": 106,
   "metadata": {},
   "outputs": [],
   "source": [
    "image = test_image()"
   ]
  },
  {
   "cell_type": "code",
   "execution_count": 107,
   "metadata": {},
   "outputs": [],
   "source": [
    "def get_mask_properties(label_image,\n",
    "                       properties = ('centroid','perimeter','area')):\n",
    "\n",
    "    mask_properties = skimage.measure.regionprops_table(label_image, \n",
    "                                          properties=properties)\n",
    "    \n",
    "    mask_properties = pd.DataFrame(mask_properties).rename({'centroid-0': 'x', 'centroid-1': 'y'}, axis='columns')\n",
    "    \n",
    "    return mask_properties"
   ]
  },
  {
   "cell_type": "markdown",
   "metadata": {},
   "source": [
    "check that the test images are correct:"
   ]
  },
  {
   "cell_type": "code",
   "execution_count": 108,
   "metadata": {},
   "outputs": [
    {
     "data": {
      "text/plain": [
       "<matplotlib.image.AxesImage at 0x7f9877d1da00>"
      ]
     },
     "execution_count": 108,
     "metadata": {},
     "output_type": "execute_result"
    },
    {
     "data": {
      "image/png": "[encoded data removed]",
      "text/plain": [
       "<Figure size 432x288 with 1 Axes>"
      ]
     },
     "metadata": {
      "needs_background": "light"
     },
     "output_type": "display_data"
    }
   ],
   "source": [
    "plt.imshow(image)"
   ]
  },
  {
   "cell_type": "markdown",
   "metadata": {},
   "source": [
    "we verify that the information we get is relevant:"
   ]
  },
  {
   "cell_type": "code",
   "execution_count": 109,
   "metadata": {},
   "outputs": [
    {
     "data": {
      "text/html": [
       "<div>\n",
       "<style scoped>\n",
       "    .dataframe tbody tr th:only-of-type {\n",
       "        vertical-align: middle;\n",
       "    }\n",
       "\n",
       "    .dataframe tbody tr th {\n",
       "        vertical-align: top;\n",
       "    }\n",
       "\n",
       "    .dataframe thead th {\n",
       "        text-align: right;\n",
       "    }\n",
       "</style>\n",
       "<table border=\"1\" class=\"dataframe\">\n",
       "  <thead>\n",
       "    <tr style=\"text-align: right;\">\n",
       "      <th></th>\n",
       "      <th>x</th>\n",
       "      <th>y</th>\n",
       "      <th>perimeter</th>\n",
       "      <th>area</th>\n",
       "    </tr>\n",
       "  </thead>\n",
       "  <tbody>\n",
       "    <tr>\n",
       "      <th>0</th>\n",
       "      <td>26.280702</td>\n",
       "      <td>4.0</td>\n",
       "      <td>25.656854</td>\n",
       "      <td>57</td>\n",
       "    </tr>\n",
       "    <tr>\n",
       "      <th>1</th>\n",
       "      <td>23.000000</td>\n",
       "      <td>17.0</td>\n",
       "      <td>27.313708</td>\n",
       "      <td>69</td>\n",
       "    </tr>\n",
       "  </tbody>\n",
       "</table>\n",
       "</div>"
      ],
      "text/plain": [
       "           x     y  perimeter  area\n",
       "0  26.280702   4.0  25.656854    57\n",
       "1  23.000000  17.0  27.313708    69"
      ]
     },
     "execution_count": 109,
     "metadata": {},
     "output_type": "execute_result"
    }
   ],
   "source": [
    "get_mask_properties(image)"
   ]
  },
  {
   "cell_type": "markdown",
   "metadata": {},
   "source": [
    "## analyzing an image sequence\n",
    "\n",
    "we get the organoid properties sequentially and then link the individual organoids together using trackpy."
   ]
  },
  {
   "cell_type": "code",
   "execution_count": 110,
   "metadata": {},
   "outputs": [],
   "source": [
    "test_image_sequence = test_image_sequence()"
   ]
  },
  {
   "cell_type": "code",
   "execution_count": 111,
   "metadata": {},
   "outputs": [],
   "source": [
    "organoid_data = pd.DataFrame()\n",
    "\n",
    "for image, frame in zip(image_sequence, range(len(image_sequence))):\n",
    "    \n",
    "    properties = get_mask_properties(image)\n",
    "    properties['frame'] = frame\n",
    "    \n",
    "    organoid_data = organoid_data.append(properties)"
   ]
  },
  {
   "cell_type": "code",
   "execution_count": 114,
   "metadata": {},
   "outputs": [
    {
     "name": "stdout",
     "output_type": "stream",
     "text": [
      "Frame 12: 1 trajectories present.\n"
     ]
    }
   ],
   "source": [
    "organoid_data = tp.link(organoid_data, 15, memory=3)"
   ]
  },
  {
   "cell_type": "code",
   "execution_count": 115,
   "metadata": {
    "scrolled": true
   },
   "outputs": [
    {
     "data": {
      "image/png": "[encoded data removed]",
      "text/plain": [
       "<Figure size 432x288 with 1 Axes>"
      ]
     },
     "metadata": {
      "needs_background": "light"
     },
     "output_type": "display_data"
    },
    {
     "data": {
      "text/plain": [
       "<AxesSubplot:xlabel='x [px]', ylabel='y [px]'>"
      ]
     },
     "execution_count": 115,
     "metadata": {},
     "output_type": "execute_result"
    }
   ],
   "source": [
    "plt.figure()\n",
    "tp.plot_traj(organoid_data)"
   ]
  },
  {
   "cell_type": "code",
   "execution_count": null,
   "metadata": {},
   "outputs": [],
   "source": []
  }
 ],
 "metadata": {
  "kernelspec": {
   "display_name": "Python 3",
   "language": "python",
   "name": "python3"
  },
  "language_info": {
   "codemirror_mode": {
    "name": "ipython",
    "version": 3
   },
   "file_extension": ".py",
   "mimetype": "text/x-python",
   "name": "python",
   "nbconvert_exporter": "python",
   "pygments_lexer": "ipython3",
   "version": "3.8.5"
  }
 },
 "nbformat": 4,
 "nbformat_minor": 4
}
