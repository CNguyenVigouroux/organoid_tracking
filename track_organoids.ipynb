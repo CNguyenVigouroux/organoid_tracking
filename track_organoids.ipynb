{
 "cells": [
  {
   "cell_type": "code",
   "execution_count": 2,
   "metadata": {},
   "outputs": [],
   "source": [
    "import numpy as np\n",
    "import pandas as pd\n",
    "import glob\n",
    "from organoid_tracking import organoid_tracking"
   ]
  },
  {
   "cell_type": "markdown",
   "metadata": {},
   "source": [
    "## analyzing an image sequence\n",
    "\n",
    "we get the organoid properties sequentially and then link the individual organoids together using trackpy."
   ]
  },
  {
   "cell_type": "code",
   "execution_count": 29,
   "metadata": {},
   "outputs": [],
   "source": [
    "path_to_imgs = '/Users/gustaveronteix/Documents/Code/Jaulinlab/Data/Clemence_project/masks_CNV029/Coll_CT'\n",
    "path_to_imgs = '/Users/clemence/Documents_Clémence/Experiments/Raw/CNV062-PCF_seg-auto/Masks/CNV062-PEG-DMSO'\n",
    "fnames = glob.glob(os.path.join(path_to_imgs, '*.tif'))"
   ]
  },
  {
   "cell_type": "code",
   "execution_count": 30,
   "metadata": {},
   "outputs": [
    {
     "name": "stdout",
     "output_type": "stream",
     "text": [
      "Frame 47: 4 trajectories present.\n"
     ]
    },
    {
     "data": {
      "image/png": "[encoded data removed]",
      "text/plain": [
       "<Figure size 288x144 with 1 Axes>"
      ]
     },
     "metadata": {
      "needs_background": "light"
     },
     "output_type": "display_data"
    }
   ],
   "source": [
    "from itertools import repeat\n",
    "\n",
    "output_directory = '/Users/clemence/Documents_Clémence/Experiments/Raw/CNV062-PCF_seg-auto/Masks/CNV062-PEG-DMSO'\n",
    "movie_frames = map(organoid_tracking.movie_analysis, fnames, repeat(output_directory))\n",
    "\n",
    "file_data = pd.DataFrame()\n",
    "file_data = pd.concat(list(movie_frames), \n",
    "                      ignore_index=True)\n",
    "file_data['unique_organoid'] = file_data['particle'].astype(str) + ':' + file_data['movie_name']"
   ]
  },
  {
   "cell_type": "code",
   "execution_count": 31,
   "metadata": {},
   "outputs": [],
   "source": [
    "pxtomu = 0.9075\n",
    "frametohr = 0.5/24\n",
    "\n",
    "file_data['velocity'] *= pxtomu/frametohr\n",
    "file_data['area'] *= pxtomu**2\n",
    "file_data['perimeter'] *= pxtomu\n",
    "file_data['cumulative_displacement'] *= pxtomu\n",
    "file_data['absolute_displacement'] *= pxtomu"
   ]
  },
  {
   "cell_type": "code",
   "execution_count": 32,
   "metadata": {},
   "outputs": [],
   "source": [
    "organoid_statistics = pd.DataFrame(columns = ['movie_name', 'particle'])\n",
    "\n",
    "for single_particle in file_data.unique_organoid.unique():\n",
    "\n",
    "    unique_organoid_frame = file_data[file_data.unique_organoid == single_particle].sort_values('frame')\n",
    "    \n",
    "    assert len(unique_organoid_frame.movie_name.unique()) == 1\n",
    "    assert len(unique_organoid_frame.particle.unique()) == 1\n",
    "\n",
    "    single_organoid_statistics = pd.DataFrame(columns = ['movie_name',\n",
    "                                                         'particle',\n",
    "                                                         'unique_organoid',\n",
    "                                                         'velocity_std',\n",
    "                                                         'velocity_mean',\n",
    "                                                         'perimeter',\n",
    "                                                         'area',\n",
    "                                                         'circularity'])\n",
    "\n",
    "    single_organoid_statistics.loc[0, 'movie_name'] = unique_organoid_frame.movie_name.unique()[0]\n",
    "    single_organoid_statistics.loc[0, 'particle'] = unique_organoid_frame.particle.unique()[0]\n",
    "    single_organoid_statistics.loc[0, 'unique_organoid'] = single_particle\n",
    "    single_organoid_statistics.loc[0, 'N'] = len(unique_organoid_frame)\n",
    "    single_organoid_statistics.loc[0, 'cumulative_displacement'] = unique_organoid_frame['cumulative_displacement'].max()\n",
    "    single_organoid_statistics.loc[0, 'absolute_displacement'] = unique_organoid_frame.loc[unique_organoid_frame.index.max(), 'absolute_displacement']\n",
    "    single_organoid_statistics.loc[0, 'velocity_std'] = unique_organoid_frame['velocity'].std()\n",
    "    single_organoid_statistics.loc[0, 'velocity_mean'] = unique_organoid_frame['velocity'].mean()\n",
    "    single_organoid_statistics.loc[0, 'perimeter'] = unique_organoid_frame['perimeter'].mean()\n",
    "    single_organoid_statistics.loc[0, 'area'] = unique_organoid_frame['area'].mean()\n",
    "    single_organoid_statistics.loc[0, 'circularity'] = 4*np.pi*(unique_organoid_frame['area']/unique_organoid_frame['perimeter']**2).mean()\n",
    "\n",
    "    organoid_statistics = pd.concat([organoid_statistics, single_organoid_statistics])\n",
    "\n"
   ]
  },
  {
   "cell_type": "code",
   "execution_count": 33,
   "metadata": {},
   "outputs": [],
   "source": [
    "file_data['circularity'] = 4*np.pi*(file_data['area']/file_data['perimeter']**2)"
   ]
  },
  {
   "cell_type": "markdown",
   "metadata": {},
   "source": [
    "## Saving the results\n",
    "\n",
    "We save the resulting data in a specific subfolder `organoid_statistics` that is contained in the same directory as the images."
   ]
  },
  {
   "cell_type": "code",
   "execution_count": 34,
   "metadata": {},
   "outputs": [],
   "source": [
    "savedir = os.path.join(path_to_imgs, 'organoid_statistics')\n",
    "\n",
    "if not os.path.exists(savedir):\n",
    "    os.makedirs(savedir)\n",
    "\n",
    "organoid_statistics.to_csv(os.path.join(savedir, 'organoid_statistics.csv'), index = False)\n",
    "file_data.to_csv(os.path.join(savedir, 'velocity_stats.csv'), index = False)"
   ]
  },
  {
   "cell_type": "code",
   "execution_count": null,
   "metadata": {},
   "outputs": [],
   "source": []
  }
 ],
 "metadata": {
  "kernelspec": {
   "display_name": "Python 3.9.12 ('base')",
   "language": "python",
   "name": "python3"
  },
  "language_info": {
   "codemirror_mode": {
    "name": "ipython",
    "version": 3
   },
   "file_extension": ".py",
   "mimetype": "text/x-python",
   "name": "python",
   "nbconvert_exporter": "python",
   "pygments_lexer": "ipython3",
   "version": "3.9.12"
  },
  "vscode": {
   "interpreter": {
    "hash": "50e59522dfee8fdb25f521bccc88f90f0f2bae0e6d186d2eebb72077c5736364"
   }
  }
 },
 "nbformat": 4,
 "nbformat_minor": 4
}
