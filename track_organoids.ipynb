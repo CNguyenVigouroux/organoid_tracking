{
 "cells": [
  {
   "cell_type": "code",
   "execution_count": 1,
   "metadata": {},
   "outputs": [],
   "source": [
    "import numpy as np\n",
    "import trackpy as tp\n",
    "import random\n",
    "import pandas as pd\n",
    "import skimage.measure\n",
    "import matplotlib.pyplot as plt\n",
    "import glob\n",
    "import tifffile\n",
    "from organoid_tracking import organoid_tracking"
   ]
  },
  {
   "cell_type": "code",
   "execution_count": 2,
   "metadata": {},
   "outputs": [],
   "source": [
    "def test_make_organoid_masks(x,y,r,L):\n",
    "\n",
    "    X,Y = np.ogrid[:L, :L]\n",
    "\n",
    "    assert isinstance(x, list)\n",
    "    assert isinstance(y, list)\n",
    "    assert len(x) == len(y)\n",
    "\n",
    "    test_image = np.zeros((L, L))\n",
    "\n",
    "    for xn, yn, n in zip(x,y,range(len(x))):\n",
    "\n",
    "        distance = np.sqrt((X-xn)**2 + (Y-yn)**2)\n",
    "        test_image[distance<r] = n\n",
    "\n",
    "    return test_image.astype(int)\n",
    "\n",
    "def test_image():\n",
    "\n",
    "    # number of organoids\n",
    "    n = random.sample([1,2,3,4], 1)[0]\n",
    "    L = 30\n",
    "\n",
    "    # organoid positions\n",
    "    r = 5\n",
    "    x = random.sample(range(0, L), n)\n",
    "    y = random.sample(range(0, L), n)\n",
    "    \n",
    "    test_image = test_make_organoid_masks(x,y,r,L)\n",
    "\n",
    "    return test_image.astype(int)\n",
    "\n",
    "def test_image_sequence():\n",
    "    \n",
    "    n = random.sample([10,11,12,13], 1)[0]\n",
    "    \n",
    "    return np.array([test_image() for  i in range(n)])"
   ]
  },
  {
   "cell_type": "code",
   "execution_count": 3,
   "metadata": {},
   "outputs": [],
   "source": [
    "image = test_image()"
   ]
  },
  {
   "cell_type": "markdown",
   "metadata": {},
   "source": [
    "check that the test images are correct:"
   ]
  },
  {
   "cell_type": "code",
   "execution_count": 4,
   "metadata": {},
   "outputs": [
    {
     "data": {
      "text/plain": [
       "<matplotlib.image.AxesImage at 0x29c2ecf10>"
      ]
     },
     "execution_count": 4,
     "metadata": {},
     "output_type": "execute_result"
    },
    {
     "data": {
      "image/png": "[encoded data removed]",
      "text/plain": [
       "<Figure size 640x480 with 1 Axes>"
      ]
     },
     "metadata": {},
     "output_type": "display_data"
    }
   ],
   "source": [
    "plt.imshow(image)"
   ]
  },
  {
   "cell_type": "markdown",
   "metadata": {},
   "source": [
    "we verify that the information we get is relevant:"
   ]
  },
  {
   "cell_type": "code",
   "execution_count": 5,
   "metadata": {},
   "outputs": [
    {
     "data": {
      "text/html": [
       "<div>\n",
       "<style scoped>\n",
       "    .dataframe tbody tr th:only-of-type {\n",
       "        vertical-align: middle;\n",
       "    }\n",
       "\n",
       "    .dataframe tbody tr th {\n",
       "        vertical-align: top;\n",
       "    }\n",
       "\n",
       "    .dataframe thead th {\n",
       "        text-align: right;\n",
       "    }\n",
       "</style>\n",
       "<table border=\"1\" class=\"dataframe\">\n",
       "  <thead>\n",
       "    <tr style=\"text-align: right;\">\n",
       "      <th></th>\n",
       "      <th>y</th>\n",
       "      <th>x</th>\n",
       "      <th>perimeter</th>\n",
       "      <th>area</th>\n",
       "    </tr>\n",
       "  </thead>\n",
       "  <tbody>\n",
       "  </tbody>\n",
       "</table>\n",
       "</div>"
      ],
      "text/plain": [
       "Empty DataFrame\n",
       "Columns: [y, x, perimeter, area]\n",
       "Index: []"
      ]
     },
     "execution_count": 5,
     "metadata": {},
     "output_type": "execute_result"
    }
   ],
   "source": [
    "organoid_tracking.get_mask_properties(image)"
   ]
  },
  {
   "cell_type": "markdown",
   "metadata": {},
   "source": [
    "## analyzing an image sequence\n",
    "\n",
    "we get the organoid properties sequentially and then link the individual organoids together using trackpy."
   ]
  },
  {
   "cell_type": "code",
   "execution_count": 20,
   "metadata": {},
   "outputs": [],
   "source": [
    "def single_movie_trajs(image_sequence,\n",
    "                       max_step = 50):\n",
    "\n",
    "    \"\"\" From images sequences to trajectories \"\"\"\n",
    "\n",
    "    organoid_data = pd.DataFrame()\n",
    "\n",
    "    for image, frame in zip(image_sequence, range(len(image_sequence))):\n",
    "        \n",
    "        properties = organoid_tracking.get_mask_properties(image)\n",
    "        properties['frame'] = frame\n",
    "        \n",
    "        organoid_data = pd.concat([organoid_data, properties], \n",
    "                                ignore_index=True)\n",
    "\n",
    "    organoid_data = tp.link(organoid_data, max_step, memory=3)\n",
    "\n",
    "    return organoid_data"
   ]
  },
  {
   "cell_type": "code",
   "execution_count": 6,
   "metadata": {},
   "outputs": [],
   "source": [
    "test_image_sequence = test_image_sequence()"
   ]
  },
  {
   "cell_type": "code",
   "execution_count": 7,
   "metadata": {},
   "outputs": [],
   "source": [
    "path_to_imgs = '/Users/gustaveronteix/Documents/Code/Orakl/collective_ameobide/CNV029-Masks&DIC/Coll_CT-Stacks-masks'\n",
    "fnames = glob.glob(os.path.join(path_to_imgs, '*.tiff'))"
   ]
  },
  {
   "cell_type": "code",
   "execution_count": 18,
   "metadata": {},
   "outputs": [
    {
     "data": {
      "text/plain": [
       "'CNV029_040-masks.tiff'"
      ]
     },
     "execution_count": 18,
     "metadata": {},
     "output_type": "execute_result"
    }
   ],
   "source": [
    "os.path.basename(fnames[0])"
   ]
  },
  {
   "cell_type": "code",
   "execution_count": 21,
   "metadata": {},
   "outputs": [
    {
     "name": "stdout",
     "output_type": "stream",
     "text": [
      "Frame 41: 3 trajectories present.\n"
     ]
    }
   ],
   "source": [
    "file_data = pd.DataFrame()\n",
    "\n",
    "for movie_name in fnames:\n",
    "\n",
    "    filename = os.path.basename(movie_name)\n",
    "    filename, _ = filename.split('.')\n",
    "\n",
    "    image_sequence = tifffile.imread(movie_name)\n",
    "\n",
    "    # if spurious channels remove extra RGB one\n",
    "    if image_sequence.ndim == 4:\n",
    "        single_channel_image_sequence = image_sequence[..., 0]\n",
    "        image_sequence = single_channel_image_sequence\n",
    "        del(single_channel_image_sequence)\n",
    "\n",
    "    # check that dimensions are OK\n",
    "    assert image_sequence.ndim == 3\n",
    "\n",
    "    movie_frame = single_movie_trajs(image_sequence,\n",
    "                       max_step = 50)\n",
    "    movie_frame['movie_name'] = filename\n",
    "\n",
    "    file_data = pd.concat([file_data, movie_frame], \n",
    "                                ignore_index=True)\n",
    "\n"
   ]
  },
  {
   "cell_type": "code",
   "execution_count": 22,
   "metadata": {
    "scrolled": true
   },
   "outputs": [
    {
     "data": {
      "image/png": "[encoded data removed]",
      "text/plain": [
       "<Figure size 400x200 with 1 Axes>"
      ]
     },
     "metadata": {},
     "output_type": "display_data"
    },
    {
     "data": {
      "text/plain": [
       "<AxesSubplot:xlabel='x [px]', ylabel='y [px]'>"
      ]
     },
     "execution_count": 22,
     "metadata": {},
     "output_type": "execute_result"
    }
   ],
   "source": [
    "plt.figure(figsize=(4,2))\n",
    "tp.plot_traj(movie_frame)"
   ]
  }
 ],
 "metadata": {
  "kernelspec": {
   "display_name": "Python 3.8.9 64-bit",
   "language": "python",
   "name": "python3"
  },
  "language_info": {
   "codemirror_mode": {
    "name": "ipython",
    "version": 3
   },
   "file_extension": ".py",
   "mimetype": "text/x-python",
   "name": "python",
   "nbconvert_exporter": "python",
   "pygments_lexer": "ipython3",
   "version": "3.8.9"
  },
  "vscode": {
   "interpreter": {
    "hash": "31f2aee4e71d21fbe5cf8b01ff0e069b9275f58929596ceb00d14d90e3e16cd6"
   }
  }
 },
 "nbformat": 4,
 "nbformat_minor": 4
}
