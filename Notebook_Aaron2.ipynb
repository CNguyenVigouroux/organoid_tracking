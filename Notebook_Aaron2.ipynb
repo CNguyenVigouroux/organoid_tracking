{
 "cells": [
  {
   "cell_type": "code",
   "execution_count": 1,
   "metadata": {},
   "outputs": [
    {
     "name": "stderr",
     "output_type": "stream",
     "text": [
      "/Library/Frameworks/Python.framework/Versions/3.10/lib/python3.10/site-packages/tqdm/auto.py:22: TqdmWarning: IProgress not found. Please update jupyter and ipywidgets. See https://ipywidgets.readthedocs.io/en/stable/user_install.html\n",
      "  from .autonotebook import tqdm as notebook_tqdm\n"
     ]
    }
   ],
   "source": [
    "import os\n",
    "import PIL\n",
    "from PIL import Image, ImageOps, ImageEnhance, __version__ as PILLOW_VERSION\n",
    "\n",
    "import numpy as np\n",
    "import pandas as pd\n",
    "import matplotlib.pyplot as plt\n",
    "import scipy\n",
    "import re\n",
    "import random\n",
    "from natsort import natsorted\n",
    "import glob\n",
    "from skimage import img_as_ubyte\n",
    "import skimage \n",
    "from skimage.color import rgb2gray\n",
    "from skimage.transform import rescale, resize, downscale_local_mean\n",
    "import torch\n",
    "import torch.nn as nn\n",
    "import torch.nn.functional as F\n",
    "import torch.optim as optim\n",
    "from torch.utils.data import Dataset, DataLoader\n",
    "import torchvision \n",
    "from torchvision import transforms\n",
    "from torchmetrics import Dice\n",
    "import tifffile\n",
    "import tifffile as tiff\n",
    "from tqdm.notebook import tqdm\n",
    "\n",
    "\n",
    "\n",
    "def create_masks(file_dir,experiment_name='CNV',first_thresh=300,thresh_small_objects=3700,thresh_big_objects=20000):\n",
    "\n",
    "    experiment_types_dir = [  \"\".join([file_dir,'/',f]) for f in natsorted(os.listdir(file_dir)) if experiment_name in f]  \n",
    "\n",
    "    for type_dir in experiment_types_dir:\n",
    "        sequences=[  \"\".join([type_dir,'/',f])  for f in  natsorted(os.listdir(type_dir)) if experiment_name in f]\n",
    "        for sequence in sequences:\n",
    "            images_in_tiff = tifffile.imread(sequence)\n",
    "            nb_images_in_tiff = len(images_in_tiff)\n",
    "            predicted_mask=list()\n",
    "            i=0         \n",
    "            for index_one_image in range(nb_images_in_tiff): \n",
    "                im_original=skimage.morphology.remove_small_objects(scipy.ndimage.binary_fill_holes(skimage.morphology.binary_closing(skimage.morphology.remove_small_objects(scipy.ndimage.binary_fill_holes(skimage.filters.gabor(img_as_ubyte(skimage.exposure.rescale_intensity(images_in_tiff[index_one_image])),0.78)[1]),min_size=first_thresh, connectivity=1),footprint=np.ones((5, 5)))),min_size=thresh_small_objects,connectivity=1)\n",
    "                im_big_objects=img_as_ubyte(skimage.morphology.remove_small_objects(skimage.morphology.binary_closing(  np.pad(im_original, (50, 50), 'constant', constant_values=255),footprint=np.ones((15, 15))) ,min_size=thresh_big_objects,connectivity=1)  )\n",
    "                im_original=img_as_ubyte(np.pad(im_original, (50, 50), 'constant', constant_values=255) )  \n",
    "                new_image = im_original - im_big_objects\n",
    "                shape_im = new_image.shape\n",
    "         \n",
    "                if i==0:\n",
    "                    predicted_mask=[new_image[50:shape_im[0]-50,50:shape_im[1]-50]] \n",
    "                else:\n",
    "                    predicted_mask=np.append(predicted_mask,[new_image[50:shape_im[0]-50,50:shape_im[1]-50]],axis=0)\n",
    "                i=i+1\n",
    "            tiff.imsave(\"\".join([type_dir,'/mask_',os.path.basename(sequence)]),predicted_mask)\n",
    "            \n",
    "    \n",
    "                \n",
    "\n",
    "\n",
    "\n",
    "\n",
    "\n",
    "\n",
    "\n"
   ]
  },
  {
   "cell_type": "code",
   "execution_count": 2,
   "metadata": {},
   "outputs": [
    {
     "name": "stderr",
     "output_type": "stream",
     "text": [
      "/var/folders/t9/fgr9lrds0dvgw45q0n6x3xfm0000gn/T/ipykernel_20984/2811140459.py:54: DeprecationWarning: <tifffile.imsave> is deprecated. Use tifffile.imwrite\n",
      "  tiff.imsave(\"\".join([type_dir,'/mask_',os.path.basename(sequence)]),predicted_mask)\n"
     ]
    }
   ],
   "source": [
    "# Execute the function with path file \n",
    "create_masks(file_dir='/Users/clemence/Documents_Clémence/Analysis/Tracking algorithm/Tracking-seg_Aaron-Gus_CNV/CNV049-PCF_seg-auto')"
   ]
  }
 ],
 "metadata": {
  "kernelspec": {
   "display_name": "Python 3.10.7 64-bit",
   "language": "python",
   "name": "python3"
  },
  "language_info": {
   "codemirror_mode": {
    "name": "ipython",
    "version": 3
   },
   "file_extension": ".py",
   "mimetype": "text/x-python",
   "name": "python",
   "nbconvert_exporter": "python",
   "pygments_lexer": "ipython3",
   "version": "3.10.7"
  },
  "orig_nbformat": 4,
  "vscode": {
   "interpreter": {
    "hash": "aee8b7b246df8f9039afb4144a1f6fd8d2ca17a180786b69acc140d282b71a49"
   }
  }
 },
 "nbformat": 4,
 "nbformat_minor": 2
}
