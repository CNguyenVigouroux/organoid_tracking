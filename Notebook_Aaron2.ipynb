{
 "cells": [
  {
   "cell_type": "code",
   "execution_count": null,
   "metadata": {},
   "outputs": [],
   "source": [
    "import os\n",
    "import PIL\n",
    "from PIL import Image, ImageOps, ImageEnhance, __version__ as PILLOW_VERSION\n",
    "\n",
    "import numpy as np\n",
    "import pandas as pd\n",
    "import matplotlib.pyplot as plt\n",
    "import scipy\n",
    "import re\n",
    "import random\n",
    "from natsort import natsorted\n",
    "import glob\n",
    "from skimage import img_as_ubyte\n",
    "import skimage \n",
    "from skimage.color import rgb2gray\n",
    "from skimage.transform import rescale, resize, downscale_local_mean\n",
    "import torch\n",
    "import torch.nn as nn\n",
    "import torch.nn.functional as F\n",
    "import torch.optim as optim\n",
    "from torch.utils.data import Dataset, DataLoader\n",
    "import torchvision \n",
    "from torchvision import transforms\n",
    "from torchmetrics import Dice\n",
    "import cv2\n",
    "import tifffile\n",
    "import tifffile as tiff\n",
    "from tqdm.notebook import tqdm\n",
    "\n",
    "\n",
    "\n",
    "def create_masks(file_dir,experiment_name='CNV',first_thresh=300,thresh_small_objects=3000,thresh_big_objects=20000):\n",
    "\n",
    "    experiment_types_dir = [  \"\".join([file_dir,'/',f]) for f in natsorted(os.listdir(file_dir)) if experiment_name in f]  \n",
    "\n",
    "    for type_dir in experiment_types_dir:\n",
    "        sequences=[  \"\".join([type_dir,'/',f])  for f in  natsorted(os.listdir(type_dir)) if experiment_name in f]\n",
    "        for sequence in sequences:\n",
    "            images_in_tiff = tifffile.imread(sequence)\n",
    "            nb_images_in_tiff = len(images_in_tiff)\n",
    "            predicted_mask=list()\n",
    "            i=0         \n",
    "            for index_one_image in range(nb_images_in_tiff): \n",
    "                im_original=skimage.morphology.remove_small_objects(scipy.ndimage.binary_fill_holes(skimage.morphology.binary_closing(skimage.morphology.remove_small_objects(scipy.ndimage.binary_fill_holes(skimage.filters.gabor(img_as_ubyte(skimage.exposure.rescale_intensity(images_in_tiff[index_one_image])),0.75)[1]),min_size=first_thresh, connectivity=1),footprint=np.ones((15, 15)))),min_size=thresh_small_objects,connectivity=1)\n",
    "                im_big_objects=img_as_ubyte(skimage.morphology.remove_small_objects(skimage.morphology.binary_closing(  np.pad(im_original, (50, 50), 'constant', constant_values=255),footprint=np.ones((15, 15))) ,min_size=thresh_big_objects,connectivity=1)  )\n",
    "                im_original=img_as_ubyte(np.pad(im_original, (50, 50), 'constant', constant_values=255) )  \n",
    "                new_image = im_original - im_big_objects\n",
    "                shape_im = new_image.shape\n",
    "         \n",
    "                if i==0:\n",
    "                    predicted_mask=[new_image[50:shape_im[0]-50,50:shape_im[1]-50]] \n",
    "                else:\n",
    "                    predicted_mask=np.append(predicted_mask,[new_image[50:shape_im[0]-50,50:shape_im[1]-50]],axis=0)\n",
    "                i=i+1\n",
    "            tiff.imsave(\"\".join([type_dir,'/mask_',os.path.basename(sequence)]),predicted_mask)\n",
    "            \n",
    "    \n",
    "                \n",
    "\n",
    "\n",
    "\n",
    "\n",
    "\n",
    "\n",
    "\n"
   ]
  },
  {
   "cell_type": "code",
   "execution_count": null,
   "metadata": {},
   "outputs": [],
   "source": [
    "# Execute the function with path file \n",
    "create_masks(file_dir='/Users/aaronmamann/Desktop/test_2')"
   ]
  }
 ],
 "metadata": {
  "kernelspec": {
   "display_name": "Python 3.9.13 ('base')",
   "language": "python",
   "name": "python3"
  },
  "language_info": {
   "name": "python",
   "version": "3.9.13"
  },
  "orig_nbformat": 4,
  "vscode": {
   "interpreter": {
    "hash": "c3838e02d78dd2b54e3069709ac01e50affd47617d08c4b2701f007b4ee86f52"
   }
  }
 },
 "nbformat": 4,
 "nbformat_minor": 2
}
