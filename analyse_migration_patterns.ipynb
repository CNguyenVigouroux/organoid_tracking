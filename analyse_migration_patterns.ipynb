{
 "cells": [
  {
   "cell_type": "markdown",
   "metadata": {},
   "source": [
    "# Analyse tracks\n",
    "\n",
    "This is the analysis notebook. All data preparation is done in `track_organoids.ipynb`. For each of the files listed in `files`, the following steps are performed:\n",
    "\n",
    " - load mean organoid statistics\n",
    " - compare mean velocities between experimental conditions"
   ]
  },
  {
   "cell_type": "code",
   "execution_count": 2,
   "metadata": {},
   "outputs": [],
   "source": [
    "import os\n",
    "import pandas as pd\n",
    "import numpy as np\n",
    "import matplotlib.pyplot as plt\n",
    "import seaborn as sns\n",
    "import statannot "
   ]
  },
  {
   "cell_type": "code",
   "execution_count": 3,
   "metadata": {},
   "outputs": [],
   "source": [
    "organoid_frame = pd.DataFrame()"
   ]
  },
  {
   "cell_type": "code",
   "execution_count": 13,
   "metadata": {},
   "outputs": [],
   "source": [
    "path_to_imgs = '/Users/gustaveronteix/Documents/Code/Jaulinlab/Data/Clemence_project/masks_CNV029'\n",
    "\n",
    "experiment_names = ['Coll_AIIB2',\n",
    "                    'Coll_CT',\n",
    "                    'PEG_CT']\n",
    "\n",
    "for expname in experiment_names:\n",
    "    path_name = os.path.join(path_to_imgs, \n",
    "                             expname, \n",
    "                             'organoid_statistics', \n",
    "                             'organoid_statistics.csv')\n",
    "\n",
    "    df = pd.read_csv(path_name)\n",
    "    df['experiment'] = expname\n",
    "\n",
    "    organoid_frame = pd.concat([organoid_frame, df], ignore_index=True)"
   ]
  },
  {
   "cell_type": "code",
   "execution_count": 18,
   "metadata": {},
   "outputs": [
    {
     "data": {
      "text/plain": [
       "Index(['movie_name', 'particle', 'unique_organoid', 'velocity_std',\n",
       "       'velocity_mean', 'perimeter', 'area', 'circularity',\n",
       "       'cumulative_displacement', 'absolute_displacement', 'experiment'],\n",
       "      dtype='object')"
      ]
     },
     "execution_count": 18,
     "metadata": {},
     "output_type": "execute_result"
    }
   ],
   "source": [
    "organoid_frame.columns"
   ]
  },
  {
   "cell_type": "code",
   "execution_count": 27,
   "metadata": {},
   "outputs": [
    {
     "data": {
      "image/png": "[encoded data removed]",
      "text/plain": [
       "<Figure size 400x400 with 1 Axes>"
      ]
     },
     "metadata": {},
     "output_type": "display_data"
    }
   ],
   "source": [
    "# boxplot comparing the velocity as a function of the experiment. Remove the outliers.\n",
    "# compare statistical significance between the experiments using statannot\n",
    "\n",
    "# put y axis in log scale\n",
    "\n",
    "fig, ax = plt.subplots(figsize=(4, 4))\n",
    "\n",
    "sns.boxplot(x='experiment', \n",
    "    y='cumulative_displacement', \n",
    "    data=organoid_frame,\n",
    "    ax=ax,\n",
    "    showfliers=False)\n",
    "\n",
    "ax.set_yscale('log')\n",
    "plt.show()"
   ]
  },
  {
   "cell_type": "markdown",
   "metadata": {},
   "source": []
  }
 ],
 "metadata": {
  "kernelspec": {
   "display_name": "Python 3.8.9 64-bit",
   "language": "python",
   "name": "python3"
  },
  "language_info": {
   "codemirror_mode": {
    "name": "ipython",
    "version": 3
   },
   "file_extension": ".py",
   "mimetype": "text/x-python",
   "name": "python",
   "nbconvert_exporter": "python",
   "pygments_lexer": "ipython3",
   "version": "3.8.9"
  },
  "orig_nbformat": 4,
  "vscode": {
   "interpreter": {
    "hash": "31f2aee4e71d21fbe5cf8b01ff0e069b9275f58929596ceb00d14d90e3e16cd6"
   }
  }
 },
 "nbformat": 4,
 "nbformat_minor": 2
}
